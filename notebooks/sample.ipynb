{
 "cells": [
  {
   "cell_type": "code",
   "execution_count": null,
   "metadata": {},
   "outputs": [],
   "source": [
    "import numpy as np\n",
    "import pandas as pd\n",
    "from utils.math_ops import add, multiply\n",
    "\n",
    "# Create a toy dataset\n",
    "data = pd.DataFrame(\n",
    "    {\"A\": np.random.randint(0, 10, 10), \"B\": np.random.randint(0, 10, 10)}\n",
    ")\n",
    "\n",
    "print(\"Original Data:\")\n",
    "print(data)\n",
    "\n",
    "# Perform transformations using utility functions\n",
    "data[\"Sum\"] = add(data[\"A\"], data[\"B\"])\n",
    "data[\"Product\"] = multiply(data[\"A\"], data[\"B\"])\n",
    "\n",
    "print(\"Transformed Data:\")\n",
    "print(data)"
   ]
  }
 ],
 "metadata": {
  "kernelspec": {
   "display_name": "Python 3",
   "language": "python",
   "name": "python3"
  },
  "language_info": {
   "codemirror_mode": {
    "name": "ipython",
    "version": 3
   },
   "file_extension": ".py",
   "mimetype": "text/x-python",
   "name": "python",
   "nbconvert_exporter": "python",
   "pygments_lexer": "ipython3",
   "version": "3.9.7"
  }
 },
 "nbformat": 4,
 "nbformat_minor": 5
}
